{
 "cells": [
  {
   "cell_type": "code",
   "execution_count": 1,
   "id": "f4346213-7bcb-4f51-812d-7e310bcf8cdb",
   "metadata": {},
   "outputs": [
    {
     "name": "stdout",
     "output_type": "stream",
     "text": [
      "SANDRA KOECH\n",
      "FAITH MBURU\n"
     ]
    }
   ],
   "source": [
    "print('SANDRA KOECH')\n",
    "print('FAITH MBURU')\n"
   ]
  },
  {
   "cell_type": "code",
   "execution_count": null,
   "id": "9b4dcc01-56a3-498a-bfb3-963fb297f1d4",
   "metadata": {},
   "outputs": [],
   "source": []
  }
 ],
 "metadata": {
  "kernelspec": {
   "display_name": "Python 3 (ipykernel)",
   "language": "python",
   "name": "python3"
  },
  "language_info": {
   "codemirror_mode": {
    "name": "ipython",
    "version": 3
   },
   "file_extension": ".py",
   "mimetype": "text/x-python",
   "name": "python",
   "nbconvert_exporter": "python",
   "pygments_lexer": "ipython3",
   "version": "3.11.7"
  }
 },
 "nbformat": 4,
 "nbformat_minor": 5
}
